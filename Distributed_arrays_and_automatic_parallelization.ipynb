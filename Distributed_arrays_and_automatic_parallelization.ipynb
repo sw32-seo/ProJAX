{
  "cells": [
    {
      "cell_type": "markdown",
      "metadata": {
        "colab_type": "text",
        "id": "view-in-github"
      },
      "source": [
        "<a href=\"https://colab.research.google.com/github/sw32-seo/ProJAX/blob/main/Distributed_arrays_and_automatic_parallelization.ipynb\" target=\"_parent\"><img src=\"https://colab.research.google.com/assets/colab-badge.svg\" alt=\"Open In Colab\"/></a>"
      ]
    },
    {
      "cell_type": "code",
      "execution_count": 1,
      "metadata": {
        "id": "LxSPldsyyAVn"
      },
      "outputs": [],
      "source": [
        "import os\n",
        "\n",
        "import functools\n",
        "from typing import Optional\n",
        "\n",
        "import numpy as np\n",
        "\n",
        "import jax\n",
        "import jax.numpy as jnp"
      ]
    },
    {
      "cell_type": "code",
      "execution_count": 2,
      "metadata": {
        "id": "s7X5QwL38g7g"
      },
      "outputs": [],
      "source": [
        "# os.environ[\"XLA_FLAGS\"] = '--xla_force_host_platform_device_count=8'\n",
        "\n",
        "if len(jax.local_devices()) < 8:\n",
        "    raise Exception(\"Notebook requires 8 devices to run\")"
      ]
    },
    {
      "cell_type": "markdown",
      "metadata": {
        "id": "57McDbxT8nmR"
      },
      "source": [
        "# Intro and a quick example"
      ]
    },
    {
      "cell_type": "code",
      "execution_count": 3,
      "metadata": {
        "id": "_Db6EeIV8k02"
      },
      "outputs": [],
      "source": [
        "from jax.experimental import mesh_utils\n",
        "from jax.sharding import PositionalSharding"
      ]
    },
    {
      "cell_type": "code",
      "execution_count": 4,
      "metadata": {
        "id": "yrAhgjae8u1n"
      },
      "outputs": [],
      "source": [
        "sharding = PositionalSharding(mesh_utils.create_device_mesh((8,)))"
      ]
    },
    {
      "cell_type": "code",
      "execution_count": 5,
      "metadata": {
        "colab": {
          "base_uri": "https://localhost:8080/",
          "height": 215
        },
        "id": "xUH0KZ7F9C8_",
        "outputId": "69e86399-4bda-4ea0-a083-da089052b4ff"
      },
      "outputs": [
        {
          "data": {
            "text/html": [
              "<pre style=\"white-space:pre;overflow-x:auto;line-height:normal;font-family:Menlo,'DejaVu Sans Mono',consolas,'Courier New',monospace\">┌──────────┬──────────┐\n",
              "│  TPU <span style=\"color: #008080; text-decoration-color: #008080; font-weight: bold\">0</span>   │  TPU <span style=\"color: #008080; text-decoration-color: #008080; font-weight: bold\">1</span>   │\n",
              "├──────────┼──────────┤\n",
              "│  TPU <span style=\"color: #008080; text-decoration-color: #008080; font-weight: bold\">2</span>   │  TPU <span style=\"color: #008080; text-decoration-color: #008080; font-weight: bold\">3</span>   │\n",
              "├──────────┼──────────┤\n",
              "│  TPU <span style=\"color: #008080; text-decoration-color: #008080; font-weight: bold\">6</span>   │  TPU <span style=\"color: #008080; text-decoration-color: #008080; font-weight: bold\">7</span>   │\n",
              "├──────────┼──────────┤\n",
              "│  TPU <span style=\"color: #008080; text-decoration-color: #008080; font-weight: bold\">4</span>   │  TPU <span style=\"color: #008080; text-decoration-color: #008080; font-weight: bold\">5</span>   │\n",
              "└──────────┴──────────┘\n",
              "</pre>\n"
            ],
            "text/plain": [
              "┌──────────┬──────────┐\n",
              "│  TPU \u001b[1;36m0\u001b[0m   │  TPU \u001b[1;36m1\u001b[0m   │\n",
              "├──────────┼──────────┤\n",
              "│  TPU \u001b[1;36m2\u001b[0m   │  TPU \u001b[1;36m3\u001b[0m   │\n",
              "├──────────┼──────────┤\n",
              "│  TPU \u001b[1;36m6\u001b[0m   │  TPU \u001b[1;36m7\u001b[0m   │\n",
              "├──────────┼──────────┤\n",
              "│  TPU \u001b[1;36m4\u001b[0m   │  TPU \u001b[1;36m5\u001b[0m   │\n",
              "└──────────┴──────────┘\n"
            ]
          },
          "metadata": {},
          "output_type": "display_data"
        }
      ],
      "source": [
        "x = jax.random.normal(jax.random.key(0), (8192, 8192))\n",
        "y = jax.device_put(x, sharding.reshape(4, 2))\n",
        "jax.debug.visualize_array_sharding(y)"
      ]
    },
    {
      "cell_type": "code",
      "execution_count": 6,
      "metadata": {
        "colab": {
          "base_uri": "https://localhost:8080/",
          "height": 215
        },
        "id": "f3WBPgYD9Oml",
        "outputId": "0dee2540-96c3-4d9d-cd46-e017e9e30283"
      },
      "outputs": [
        {
          "data": {
            "text/html": [
              "<pre style=\"white-space:pre;overflow-x:auto;line-height:normal;font-family:Menlo,'DejaVu Sans Mono',consolas,'Courier New',monospace\">┌──────────┬──────────┐\n",
              "│  TPU <span style=\"color: #008080; text-decoration-color: #008080; font-weight: bold\">0</span>   │  TPU <span style=\"color: #008080; text-decoration-color: #008080; font-weight: bold\">1</span>   │\n",
              "├──────────┼──────────┤\n",
              "│  TPU <span style=\"color: #008080; text-decoration-color: #008080; font-weight: bold\">2</span>   │  TPU <span style=\"color: #008080; text-decoration-color: #008080; font-weight: bold\">3</span>   │\n",
              "├──────────┼──────────┤\n",
              "│  TPU <span style=\"color: #008080; text-decoration-color: #008080; font-weight: bold\">6</span>   │  TPU <span style=\"color: #008080; text-decoration-color: #008080; font-weight: bold\">7</span>   │\n",
              "├──────────┼──────────┤\n",
              "│  TPU <span style=\"color: #008080; text-decoration-color: #008080; font-weight: bold\">4</span>   │  TPU <span style=\"color: #008080; text-decoration-color: #008080; font-weight: bold\">5</span>   │\n",
              "└──────────┴──────────┘\n",
              "</pre>\n"
            ],
            "text/plain": [
              "┌──────────┬──────────┐\n",
              "│  TPU \u001b[1;36m0\u001b[0m   │  TPU \u001b[1;36m1\u001b[0m   │\n",
              "├──────────┼──────────┤\n",
              "│  TPU \u001b[1;36m2\u001b[0m   │  TPU \u001b[1;36m3\u001b[0m   │\n",
              "├──────────┼──────────┤\n",
              "│  TPU \u001b[1;36m6\u001b[0m   │  TPU \u001b[1;36m7\u001b[0m   │\n",
              "├──────────┼──────────┤\n",
              "│  TPU \u001b[1;36m4\u001b[0m   │  TPU \u001b[1;36m5\u001b[0m   │\n",
              "└──────────┴──────────┘\n"
            ]
          },
          "metadata": {},
          "output_type": "display_data"
        }
      ],
      "source": [
        "z = jnp.sin(y)\n",
        "jax.debug.visualize_array_sharding(z)"
      ]
    },
    {
      "cell_type": "markdown",
      "metadata": {
        "id": "Yg3kmVJ19nmY"
      },
      "source": [
        "`x` is present on single device"
      ]
    },
    {
      "cell_type": "code",
      "execution_count": 7,
      "metadata": {
        "colab": {
          "base_uri": "https://localhost:8080/"
        },
        "id": "e3KdeQiI9WPf",
        "outputId": "6c730f07-98f8-4427-a90c-540a19b06d8b"
      },
      "outputs": [
        {
          "name": "stdout",
          "output_type": "stream",
          "text": [
            "The slowest run took 11.00 times longer than the fastest. This could mean that an intermediate result is being cached.\n",
            "21.9 ms ± 29.1 ms per loop (mean ± std. dev. of 5 runs, 5 loops each)\n"
          ]
        }
      ],
      "source": [
        "%timeit -n 5 -r 5 jnp.sin(x).block_until_ready()"
      ]
    },
    {
      "cell_type": "markdown",
      "metadata": {
        "id": "s43HBZYG9wRO"
      },
      "source": [
        "`y` is sharded across 8 devices"
      ]
    },
    {
      "cell_type": "code",
      "execution_count": 8,
      "metadata": {
        "colab": {
          "base_uri": "https://localhost:8080/"
        },
        "id": "UgyfOXIc9cFs",
        "outputId": "aad47e1c-a50c-4f5b-b28c-037497de0ed7"
      },
      "outputs": [
        {
          "name": "stdout",
          "output_type": "stream",
          "text": [
            "1.54 ms ± 107 µs per loop (mean ± std. dev. of 5 runs, 5 loops each)\n"
          ]
        }
      ],
      "source": [
        "%timeit -n 5 -r 5 jnp.sin(y).block_until_ready()"
      ]
    },
    {
      "cell_type": "markdown",
      "metadata": {
        "id": "42AS9RPXBEC0"
      },
      "source": [
        "# `Sharding` describes how array values are laid out in memory across devices"
      ]
    },
    {
      "cell_type": "markdown",
      "metadata": {
        "id": "4RKWEkvgBLAK"
      },
      "source": [
        "## Sharding basics, and the `PositionalSharding` subclass"
      ]
    },
    {
      "cell_type": "code",
      "execution_count": 9,
      "metadata": {
        "id": "tyhkOGOV9gak"
      },
      "outputs": [],
      "source": [
        "import jax\n",
        "x = jax.random.normal(jax.random.key(0), (8192, 8192))"
      ]
    },
    {
      "cell_type": "code",
      "execution_count": 10,
      "metadata": {
        "colab": {
          "base_uri": "https://localhost:8080/",
          "height": 199
        },
        "id": "SXBQzPRnBba6",
        "outputId": "c01edbda-0bee-46c3-a338-e03b46d8208c"
      },
      "outputs": [
        {
          "data": {
            "text/html": [
              "<pre style=\"white-space:pre;overflow-x:auto;line-height:normal;font-family:Menlo,'DejaVu Sans Mono',consolas,'Courier New',monospace\">┌───────────────────────┐\n",
              "│                       │\n",
              "│                       │\n",
              "│                       │\n",
              "│                       │\n",
              "│         TPU <span style=\"color: #008080; text-decoration-color: #008080; font-weight: bold\">0</span>         │\n",
              "│                       │\n",
              "│                       │\n",
              "│                       │\n",
              "│                       │\n",
              "└───────────────────────┘\n",
              "</pre>\n"
            ],
            "text/plain": [
              "┌───────────────────────┐\n",
              "│                       │\n",
              "│                       │\n",
              "│                       │\n",
              "│                       │\n",
              "│         TPU \u001b[1;36m0\u001b[0m         │\n",
              "│                       │\n",
              "│                       │\n",
              "│                       │\n",
              "│                       │\n",
              "└───────────────────────┘\n"
            ]
          },
          "metadata": {},
          "output_type": "display_data"
        }
      ],
      "source": [
        "jax.debug.visualize_array_sharding(x)"
      ]
    },
    {
      "cell_type": "code",
      "execution_count": 11,
      "metadata": {
        "id": "XT1JctlMBduI"
      },
      "outputs": [],
      "source": [
        "from jax.experimental import mesh_utils\n",
        "devices = mesh_utils.create_device_mesh((8,))"
      ]
    },
    {
      "cell_type": "code",
      "execution_count": 12,
      "metadata": {
        "colab": {
          "base_uri": "https://localhost:8080/",
          "height": 281
        },
        "id": "IOeOGSSMBohk",
        "outputId": "f2463ad7-cfbb-4773-c581-40906a6a3274"
      },
      "outputs": [
        {
          "data": {
            "text/html": [
              "<pre style=\"white-space:pre;overflow-x:auto;line-height:normal;font-family:Menlo,'DejaVu Sans Mono',consolas,'Courier New',monospace\">┌───────────────────────┐\n",
              "│         TPU <span style=\"color: #008080; text-decoration-color: #008080; font-weight: bold\">0</span>         │\n",
              "├───────────────────────┤\n",
              "│         TPU <span style=\"color: #008080; text-decoration-color: #008080; font-weight: bold\">1</span>         │\n",
              "├───────────────────────┤\n",
              "│         TPU <span style=\"color: #008080; text-decoration-color: #008080; font-weight: bold\">2</span>         │\n",
              "├───────────────────────┤\n",
              "│         TPU <span style=\"color: #008080; text-decoration-color: #008080; font-weight: bold\">3</span>         │\n",
              "├───────────────────────┤\n",
              "│         TPU <span style=\"color: #008080; text-decoration-color: #008080; font-weight: bold\">6</span>         │\n",
              "├───────────────────────┤\n",
              "│         TPU <span style=\"color: #008080; text-decoration-color: #008080; font-weight: bold\">7</span>         │\n",
              "├───────────────────────┤\n",
              "│         TPU <span style=\"color: #008080; text-decoration-color: #008080; font-weight: bold\">4</span>         │\n",
              "├───────────────────────┤\n",
              "│         TPU <span style=\"color: #008080; text-decoration-color: #008080; font-weight: bold\">5</span>         │\n",
              "└───────────────────────┘\n",
              "</pre>\n"
            ],
            "text/plain": [
              "┌───────────────────────┐\n",
              "│         TPU \u001b[1;36m0\u001b[0m         │\n",
              "├───────────────────────┤\n",
              "│         TPU \u001b[1;36m1\u001b[0m         │\n",
              "├───────────────────────┤\n",
              "│         TPU \u001b[1;36m2\u001b[0m         │\n",
              "├───────────────────────┤\n",
              "│         TPU \u001b[1;36m3\u001b[0m         │\n",
              "├───────────────────────┤\n",
              "│         TPU \u001b[1;36m6\u001b[0m         │\n",
              "├───────────────────────┤\n",
              "│         TPU \u001b[1;36m7\u001b[0m         │\n",
              "├───────────────────────┤\n",
              "│         TPU \u001b[1;36m4\u001b[0m         │\n",
              "├───────────────────────┤\n",
              "│         TPU \u001b[1;36m5\u001b[0m         │\n",
              "└───────────────────────┘\n"
            ]
          },
          "metadata": {},
          "output_type": "display_data"
        }
      ],
      "source": [
        "from jax.sharding import PositionalSharding\n",
        "\n",
        "sharding = PositionalSharding(devices)\n",
        "\n",
        "x = jax.device_put(x, sharding.reshape(8, 1))\n",
        "jax.debug.visualize_array_sharding(x)"
      ]
    },
    {
      "cell_type": "code",
      "execution_count": 13,
      "metadata": {
        "colab": {
          "base_uri": "https://localhost:8080/"
        },
        "id": "jcQhdkf-Bt6_",
        "outputId": "93c2c5b8-6f96-47d8-bff6-1a9c07ea559c"
      },
      "outputs": [
        {
          "data": {
            "text/plain": [
              "PositionalSharding([{TPU 0} {TPU 1} {TPU 2} {TPU 3} {TPU 6} {TPU 7} {TPU 4} {TPU 5}], shape=(8,))"
            ]
          },
          "execution_count": 13,
          "metadata": {},
          "output_type": "execute_result"
        }
      ],
      "source": [
        "sharding"
      ]
    },
    {
      "cell_type": "code",
      "execution_count": 14,
      "metadata": {
        "colab": {
          "base_uri": "https://localhost:8080/"
        },
        "id": "J1KeVycRB7qu",
        "outputId": "d176d179-f7b9-4e5c-b7e9-e4648ed40e19"
      },
      "outputs": [
        {
          "data": {
            "text/plain": [
              "PositionalSharding([[{TPU 0}]\n",
              "                    [{TPU 1}]\n",
              "                    [{TPU 2}]\n",
              "                    [{TPU 3}]\n",
              "                    [{TPU 6}]\n",
              "                    [{TPU 7}]\n",
              "                    [{TPU 4}]\n",
              "                    [{TPU 5}]], shape=(8, 1))"
            ]
          },
          "execution_count": 14,
          "metadata": {},
          "output_type": "execute_result"
        }
      ],
      "source": [
        "sharding.reshape(8, 1)"
      ]
    },
    {
      "cell_type": "code",
      "execution_count": 15,
      "metadata": {
        "colab": {
          "base_uri": "https://localhost:8080/"
        },
        "id": "8iAuKloxCCXD",
        "outputId": "b6e6eb6b-c2c5-4d62-f1c1-9171e52e8152"
      },
      "outputs": [
        {
          "name": "stdout",
          "output_type": "stream",
          "text": [
            "PositionalSharding([[{TPU 0} {TPU 1}]\n",
            "                    [{TPU 2} {TPU 3}]\n",
            "                    [{TPU 6} {TPU 7}]\n",
            "                    [{TPU 4} {TPU 5}]], shape=(4, 2))\n"
          ]
        }
      ],
      "source": [
        "sharding = sharding.reshape(4, 2)\n",
        "print(sharding)"
      ]
    },
    {
      "cell_type": "code",
      "execution_count": 16,
      "metadata": {
        "colab": {
          "base_uri": "https://localhost:8080/",
          "height": 215
        },
        "id": "9vK6-JXfCNWb",
        "outputId": "eb936ff4-0275-4a11-ffab-c58a456066f3"
      },
      "outputs": [
        {
          "data": {
            "text/html": [
              "<pre style=\"white-space:pre;overflow-x:auto;line-height:normal;font-family:Menlo,'DejaVu Sans Mono',consolas,'Courier New',monospace\">┌──────────┬──────────┐\n",
              "│  TPU <span style=\"color: #008080; text-decoration-color: #008080; font-weight: bold\">0</span>   │  TPU <span style=\"color: #008080; text-decoration-color: #008080; font-weight: bold\">1</span>   │\n",
              "├──────────┼──────────┤\n",
              "│  TPU <span style=\"color: #008080; text-decoration-color: #008080; font-weight: bold\">2</span>   │  TPU <span style=\"color: #008080; text-decoration-color: #008080; font-weight: bold\">3</span>   │\n",
              "├──────────┼──────────┤\n",
              "│  TPU <span style=\"color: #008080; text-decoration-color: #008080; font-weight: bold\">6</span>   │  TPU <span style=\"color: #008080; text-decoration-color: #008080; font-weight: bold\">7</span>   │\n",
              "├──────────┼──────────┤\n",
              "│  TPU <span style=\"color: #008080; text-decoration-color: #008080; font-weight: bold\">4</span>   │  TPU <span style=\"color: #008080; text-decoration-color: #008080; font-weight: bold\">5</span>   │\n",
              "└──────────┴──────────┘\n",
              "</pre>\n"
            ],
            "text/plain": [
              "┌──────────┬──────────┐\n",
              "│  TPU \u001b[1;36m0\u001b[0m   │  TPU \u001b[1;36m1\u001b[0m   │\n",
              "├──────────┼──────────┤\n",
              "│  TPU \u001b[1;36m2\u001b[0m   │  TPU \u001b[1;36m3\u001b[0m   │\n",
              "├──────────┼──────────┤\n",
              "│  TPU \u001b[1;36m6\u001b[0m   │  TPU \u001b[1;36m7\u001b[0m   │\n",
              "├──────────┼──────────┤\n",
              "│  TPU \u001b[1;36m4\u001b[0m   │  TPU \u001b[1;36m5\u001b[0m   │\n",
              "└──────────┴──────────┘\n"
            ]
          },
          "metadata": {},
          "output_type": "display_data"
        }
      ],
      "source": [
        "y = jax.device_put(x, sharding)\n",
        "jax.debug.visualize_array_sharding(y)"
      ]
    },
    {
      "cell_type": "code",
      "execution_count": 17,
      "metadata": {
        "colab": {
          "base_uri": "https://localhost:8080/",
          "height": 199
        },
        "id": "5F143WwVCSof",
        "outputId": "2c999ef1-08f5-4205-975b-df716d8782de"
      },
      "outputs": [
        {
          "data": {
            "text/html": [
              "<pre style=\"white-space:pre;overflow-x:auto;line-height:normal;font-family:Menlo,'DejaVu Sans Mono',consolas,'Courier New',monospace\">┌───────┬───────┬───────┬───────┬───────┬───────┬───────┬───────┐\n",
              "│       │       │       │       │       │       │       │       │\n",
              "│       │       │       │       │       │       │       │       │\n",
              "│       │       │       │       │       │       │       │       │\n",
              "│       │       │       │       │       │       │       │       │\n",
              "│ TPU <span style=\"color: #008080; text-decoration-color: #008080; font-weight: bold\">0</span> │ TPU <span style=\"color: #008080; text-decoration-color: #008080; font-weight: bold\">1</span> │ TPU <span style=\"color: #008080; text-decoration-color: #008080; font-weight: bold\">2</span> │ TPU <span style=\"color: #008080; text-decoration-color: #008080; font-weight: bold\">3</span> │ TPU <span style=\"color: #008080; text-decoration-color: #008080; font-weight: bold\">6</span> │ TPU <span style=\"color: #008080; text-decoration-color: #008080; font-weight: bold\">7</span> │ TPU <span style=\"color: #008080; text-decoration-color: #008080; font-weight: bold\">4</span> │ TPU <span style=\"color: #008080; text-decoration-color: #008080; font-weight: bold\">5</span> │\n",
              "│       │       │       │       │       │       │       │       │\n",
              "│       │       │       │       │       │       │       │       │\n",
              "│       │       │       │       │       │       │       │       │\n",
              "│       │       │       │       │       │       │       │       │\n",
              "└───────┴───────┴───────┴───────┴───────┴───────┴───────┴───────┘\n",
              "</pre>\n"
            ],
            "text/plain": [
              "┌───────┬───────┬───────┬───────┬───────┬───────┬───────┬───────┐\n",
              "│       │       │       │       │       │       │       │       │\n",
              "│       │       │       │       │       │       │       │       │\n",
              "│       │       │       │       │       │       │       │       │\n",
              "│       │       │       │       │       │       │       │       │\n",
              "│ TPU \u001b[1;36m0\u001b[0m │ TPU \u001b[1;36m1\u001b[0m │ TPU \u001b[1;36m2\u001b[0m │ TPU \u001b[1;36m3\u001b[0m │ TPU \u001b[1;36m6\u001b[0m │ TPU \u001b[1;36m7\u001b[0m │ TPU \u001b[1;36m4\u001b[0m │ TPU \u001b[1;36m5\u001b[0m │\n",
              "│       │       │       │       │       │       │       │       │\n",
              "│       │       │       │       │       │       │       │       │\n",
              "│       │       │       │       │       │       │       │       │\n",
              "│       │       │       │       │       │       │       │       │\n",
              "└───────┴───────┴───────┴───────┴───────┴───────┴───────┴───────┘\n"
            ]
          },
          "metadata": {},
          "output_type": "display_data"
        }
      ],
      "source": [
        "sharding = sharding.reshape(1, 8)\n",
        "y = jax.device_put(x, sharding)\n",
        "jax.debug.visualize_array_sharding(y)"
      ]
    },
    {
      "cell_type": "markdown",
      "metadata": {
        "id": "LaG4ltvDCrMa"
      },
      "source": [
        "Sometimes, we want to *replicate* some slices, meaning storing copies of a slice's values in multiple devices' memories.\n",
        "\n",
        "With the reducer method `replicate`, wecan express replication."
      ]
    },
    {
      "cell_type": "code",
      "execution_count": 18,
      "metadata": {
        "colab": {
          "base_uri": "https://localhost:8080/"
        },
        "id": "SMhaY-wKCkhI",
        "outputId": "e7613887-7217-4827-f895-98b8a34ac4a3"
      },
      "outputs": [
        {
          "name": "stdout",
          "output_type": "stream",
          "text": [
            "PositionalSharding([[{TPU 0} {TPU 1}]\n",
            "                    [{TPU 2} {TPU 3}]\n",
            "                    [{TPU 6} {TPU 7}]\n",
            "                    [{TPU 4} {TPU 5}]], shape=(4, 2))\n",
            "PositionalSharding([[{TPU 0, 2, 4, 6} {TPU 1, 3, 5, 7}]], shape=(1, 2))\n"
          ]
        }
      ],
      "source": [
        "sharding = sharding.reshape(4, 2)\n",
        "# before replicate\n",
        "print(sharding)\n",
        "# after replicate\n",
        "print(sharding.replicate(axis=0, keepdims=True))"
      ]
    },
    {
      "cell_type": "code",
      "execution_count": 19,
      "metadata": {
        "colab": {
          "base_uri": "https://localhost:8080/",
          "height": 199
        },
        "id": "n0ZWjLveDMy1",
        "outputId": "7d6ec4eb-01d4-4d72-d435-763dda627241"
      },
      "outputs": [
        {
          "data": {
            "text/html": [
              "<pre style=\"white-space:pre;overflow-x:auto;line-height:normal;font-family:Menlo,'DejaVu Sans Mono',consolas,'Courier New',monospace\">┌───────────┬───────────┐\n",
              "│           │           │\n",
              "│           │           │\n",
              "│           │           │\n",
              "│           │           │\n",
              "│TPU <span style=\"color: #008080; text-decoration-color: #008080; font-weight: bold\">0</span>,<span style=\"color: #008080; text-decoration-color: #008080; font-weight: bold\">2</span>,<span style=\"color: #008080; text-decoration-color: #008080; font-weight: bold\">4</span>,<span style=\"color: #008080; text-decoration-color: #008080; font-weight: bold\">6</span>│TPU <span style=\"color: #008080; text-decoration-color: #008080; font-weight: bold\">1</span>,<span style=\"color: #008080; text-decoration-color: #008080; font-weight: bold\">3</span>,<span style=\"color: #008080; text-decoration-color: #008080; font-weight: bold\">5</span>,<span style=\"color: #008080; text-decoration-color: #008080; font-weight: bold\">7</span>│\n",
              "│           │           │\n",
              "│           │           │\n",
              "│           │           │\n",
              "│           │           │\n",
              "└───────────┴───────────┘\n",
              "</pre>\n"
            ],
            "text/plain": [
              "┌───────────┬───────────┐\n",
              "│           │           │\n",
              "│           │           │\n",
              "│           │           │\n",
              "│           │           │\n",
              "│TPU \u001b[1;36m0\u001b[0m,\u001b[1;36m2\u001b[0m,\u001b[1;36m4\u001b[0m,\u001b[1;36m6\u001b[0m│TPU \u001b[1;36m1\u001b[0m,\u001b[1;36m3\u001b[0m,\u001b[1;36m5\u001b[0m,\u001b[1;36m7\u001b[0m│\n",
              "│           │           │\n",
              "│           │           │\n",
              "│           │           │\n",
              "│           │           │\n",
              "└───────────┴───────────┘\n"
            ]
          },
          "metadata": {},
          "output_type": "display_data"
        }
      ],
      "source": [
        "y = jax.device_put(x, sharding.replicate(axis=0, keepdims=True))\n",
        "jax.debug.visualize_array_sharding(y)"
      ]
    },
    {
      "cell_type": "code",
      "execution_count": 20,
      "metadata": {
        "colab": {
          "base_uri": "https://localhost:8080/"
        },
        "id": "HqIoBo4qECve",
        "outputId": "84a3ed52-732b-4401-d879-23bcfb1988a6"
      },
      "outputs": [
        {
          "name": "stdout",
          "output_type": "stream",
          "text": [
            "The slowest run took 19.70 times longer than the fastest. This could mean that an intermediate result is being cached.\n",
            "20.1 ms ± 31.6 ms per loop (mean ± std. dev. of 5 runs, 5 loops each)\n"
          ]
        }
      ],
      "source": [
        "%timeit -n 5 -r 5 jnp.sin(y).block_until_ready()"
      ]
    },
    {
      "cell_type": "markdown",
      "metadata": {
        "id": "4b3190rl4OSK"
      },
      "source": [
        "# `NamedSharding` gives a way to express shardings with names"
      ]
    },
    {
      "cell_type": "code",
      "execution_count": 21,
      "metadata": {
        "colab": {
          "base_uri": "https://localhost:8080/",
          "height": 215
        },
        "id": "BtCu6Nq02uOj",
        "outputId": "fe960213-5bf6-4e41-c0a5-08c294a4220b"
      },
      "outputs": [
        {
          "data": {
            "text/html": [
              "<pre style=\"white-space:pre;overflow-x:auto;line-height:normal;font-family:Menlo,'DejaVu Sans Mono',consolas,'Courier New',monospace\">┌──────────┬──────────┐\n",
              "│  TPU <span style=\"color: #008080; text-decoration-color: #008080; font-weight: bold\">0</span>   │  TPU <span style=\"color: #008080; text-decoration-color: #008080; font-weight: bold\">1</span>   │\n",
              "├──────────┼──────────┤\n",
              "│  TPU <span style=\"color: #008080; text-decoration-color: #008080; font-weight: bold\">2</span>   │  TPU <span style=\"color: #008080; text-decoration-color: #008080; font-weight: bold\">3</span>   │\n",
              "├──────────┼──────────┤\n",
              "│  TPU <span style=\"color: #008080; text-decoration-color: #008080; font-weight: bold\">6</span>   │  TPU <span style=\"color: #008080; text-decoration-color: #008080; font-weight: bold\">7</span>   │\n",
              "├──────────┼──────────┤\n",
              "│  TPU <span style=\"color: #008080; text-decoration-color: #008080; font-weight: bold\">4</span>   │  TPU <span style=\"color: #008080; text-decoration-color: #008080; font-weight: bold\">5</span>   │\n",
              "└──────────┴──────────┘\n",
              "</pre>\n"
            ],
            "text/plain": [
              "┌──────────┬──────────┐\n",
              "│  TPU \u001b[1;36m0\u001b[0m   │  TPU \u001b[1;36m1\u001b[0m   │\n",
              "├──────────┼──────────┤\n",
              "│  TPU \u001b[1;36m2\u001b[0m   │  TPU \u001b[1;36m3\u001b[0m   │\n",
              "├──────────┼──────────┤\n",
              "│  TPU \u001b[1;36m6\u001b[0m   │  TPU \u001b[1;36m7\u001b[0m   │\n",
              "├──────────┼──────────┤\n",
              "│  TPU \u001b[1;36m4\u001b[0m   │  TPU \u001b[1;36m5\u001b[0m   │\n",
              "└──────────┴──────────┘\n"
            ]
          },
          "metadata": {},
          "output_type": "display_data"
        }
      ],
      "source": [
        "from jax.sharding import Mesh, PartitionSpec, NamedSharding\n",
        "from jax.experimental import mesh_utils\n",
        "\n",
        "P = PartitionSpec\n",
        "\n",
        "devices = mesh_utils.create_device_mesh((4, 2))\n",
        "mesh = Mesh(devices, axis_names=('a', 'b'))\n",
        "y = jax.device_put(x, NamedSharding(mesh, P('a', 'b')))\n",
        "jax.debug.visualize_array_sharding(y)"
      ]
    },
    {
      "cell_type": "markdown",
      "metadata": {
        "id": "8I3xA62p5kPg"
      },
      "source": [
        "We can define a helper function to make things simpler:"
      ]
    },
    {
      "cell_type": "code",
      "execution_count": 22,
      "metadata": {
        "id": "QY3HyK1O4-He"
      },
      "outputs": [],
      "source": [
        "devices = mesh_utils.create_device_mesh((4, 2))\n",
        "default_mesh = Mesh(devices, axis_names=('a', 'b'))\n",
        "\n",
        "def mesh_sharding(\n",
        "    pspec: PartitionSpec, mesh: Optional[Mesh] = None,\n",
        ") -> NamedSharding:\n",
        "  if mesh is None:\n",
        "    mesh = default_mesh\n",
        "  return NamedSharding(mesh, pspec)"
      ]
    },
    {
      "cell_type": "code",
      "execution_count": 23,
      "metadata": {
        "colab": {
          "base_uri": "https://localhost:8080/",
          "height": 215
        },
        "id": "WXRExkwq6UBu",
        "outputId": "66a758ca-312c-4907-aefc-019d76886663"
      },
      "outputs": [
        {
          "data": {
            "text/html": [
              "<pre style=\"white-space:pre;overflow-x:auto;line-height:normal;font-family:Menlo,'DejaVu Sans Mono',consolas,'Courier New',monospace\">┌──────────┬──────────┐\n",
              "│  TPU <span style=\"color: #008080; text-decoration-color: #008080; font-weight: bold\">0</span>   │  TPU <span style=\"color: #008080; text-decoration-color: #008080; font-weight: bold\">1</span>   │\n",
              "├──────────┼──────────┤\n",
              "│  TPU <span style=\"color: #008080; text-decoration-color: #008080; font-weight: bold\">2</span>   │  TPU <span style=\"color: #008080; text-decoration-color: #008080; font-weight: bold\">3</span>   │\n",
              "├──────────┼──────────┤\n",
              "│  TPU <span style=\"color: #008080; text-decoration-color: #008080; font-weight: bold\">6</span>   │  TPU <span style=\"color: #008080; text-decoration-color: #008080; font-weight: bold\">7</span>   │\n",
              "├──────────┼──────────┤\n",
              "│  TPU <span style=\"color: #008080; text-decoration-color: #008080; font-weight: bold\">4</span>   │  TPU <span style=\"color: #008080; text-decoration-color: #008080; font-weight: bold\">5</span>   │\n",
              "└──────────┴──────────┘\n",
              "</pre>\n"
            ],
            "text/plain": [
              "┌──────────┬──────────┐\n",
              "│  TPU \u001b[1;36m0\u001b[0m   │  TPU \u001b[1;36m1\u001b[0m   │\n",
              "├──────────┼──────────┤\n",
              "│  TPU \u001b[1;36m2\u001b[0m   │  TPU \u001b[1;36m3\u001b[0m   │\n",
              "├──────────┼──────────┤\n",
              "│  TPU \u001b[1;36m6\u001b[0m   │  TPU \u001b[1;36m7\u001b[0m   │\n",
              "├──────────┼──────────┤\n",
              "│  TPU \u001b[1;36m4\u001b[0m   │  TPU \u001b[1;36m5\u001b[0m   │\n",
              "└──────────┴──────────┘\n"
            ]
          },
          "metadata": {},
          "output_type": "display_data"
        }
      ],
      "source": [
        "y = jax.device_put(x, mesh_sharding(P('a', 'b')))\n",
        "jax.debug.visualize_array_sharding(y)"
      ]
    },
    {
      "cell_type": "markdown",
      "metadata": {
        "id": "jbLqGcTh6jlo"
      },
      "source": [
        "`None` in the axis names means that the array will not be sharded on its demension and shards are replicated across it."
      ]
    },
    {
      "cell_type": "code",
      "execution_count": 24,
      "metadata": {
        "colab": {
          "base_uri": "https://localhost:8080/",
          "height": 215
        },
        "id": "TF2BmvzX6ay6",
        "outputId": "9ff54b5f-b54e-41ff-fca5-6203bb360a59"
      },
      "outputs": [
        {
          "data": {
            "text/html": [
              "<pre style=\"white-space:pre;overflow-x:auto;line-height:normal;font-family:Menlo,'DejaVu Sans Mono',consolas,'Courier New',monospace\">┌───────────────────────┐\n",
              "│        TPU <span style=\"color: #008080; text-decoration-color: #008080; font-weight: bold\">0</span>,<span style=\"color: #008080; text-decoration-color: #008080; font-weight: bold\">1</span>        │\n",
              "├───────────────────────┤\n",
              "│        TPU <span style=\"color: #008080; text-decoration-color: #008080; font-weight: bold\">2</span>,<span style=\"color: #008080; text-decoration-color: #008080; font-weight: bold\">3</span>        │\n",
              "├───────────────────────┤\n",
              "│        TPU <span style=\"color: #008080; text-decoration-color: #008080; font-weight: bold\">6</span>,<span style=\"color: #008080; text-decoration-color: #008080; font-weight: bold\">7</span>        │\n",
              "├───────────────────────┤\n",
              "│        TPU <span style=\"color: #008080; text-decoration-color: #008080; font-weight: bold\">4</span>,<span style=\"color: #008080; text-decoration-color: #008080; font-weight: bold\">5</span>        │\n",
              "└───────────────────────┘\n",
              "</pre>\n"
            ],
            "text/plain": [
              "┌───────────────────────┐\n",
              "│        TPU \u001b[1;36m0\u001b[0m,\u001b[1;36m1\u001b[0m        │\n",
              "├───────────────────────┤\n",
              "│        TPU \u001b[1;36m2\u001b[0m,\u001b[1;36m3\u001b[0m        │\n",
              "├───────────────────────┤\n",
              "│        TPU \u001b[1;36m6\u001b[0m,\u001b[1;36m7\u001b[0m        │\n",
              "├───────────────────────┤\n",
              "│        TPU \u001b[1;36m4\u001b[0m,\u001b[1;36m5\u001b[0m        │\n",
              "└───────────────────────┘\n"
            ]
          },
          "metadata": {},
          "output_type": "display_data"
        }
      ],
      "source": [
        "y = jax.device_put(x, mesh_sharding(P('a', None)))\n",
        "jax.debug.visualize_array_sharding(y)"
      ]
    },
    {
      "cell_type": "markdown",
      "metadata": {
        "id": "oVIq2BfM7TXW"
      },
      "source": [
        "# Computation follows data sharding and is automatically parallelized."
      ]
    },
    {
      "cell_type": "markdown",
      "metadata": {
        "id": "2dsP8z8VD2P5"
      },
      "source": [
        "Functions decorated with `jax.jit` can overate over sharded arrays.\n",
        "\n",
        "For example, the simplest computation is an elementwise one:"
      ]
    },
    {
      "cell_type": "code",
      "execution_count": 25,
      "metadata": {
        "id": "FYUxDF4f62_F"
      },
      "outputs": [],
      "source": [
        "from jax.experimental import mesh_utils\n",
        "from jax.sharding import PositionalSharding\n",
        "sharding = PositionalSharding(mesh_utils.create_device_mesh((8,)))"
      ]
    },
    {
      "cell_type": "code",
      "execution_count": 26,
      "metadata": {
        "colab": {
          "base_uri": "https://localhost:8080/",
          "height": 449
        },
        "id": "Hv5G2DBfdYbW",
        "outputId": "ae991534-046b-4a4f-df17-c8175a7cb065"
      },
      "outputs": [
        {
          "name": "stdout",
          "output_type": "stream",
          "text": [
            "input sharding: \n"
          ]
        },
        {
          "data": {
            "text/html": [
              "<pre style=\"white-space:pre;overflow-x:auto;line-height:normal;font-family:Menlo,'DejaVu Sans Mono',consolas,'Courier New',monospace\">┌──────────┬──────────┐\n",
              "│  TPU <span style=\"color: #008080; text-decoration-color: #008080; font-weight: bold\">0</span>   │  TPU <span style=\"color: #008080; text-decoration-color: #008080; font-weight: bold\">1</span>   │\n",
              "├──────────┼──────────┤\n",
              "│  TPU <span style=\"color: #008080; text-decoration-color: #008080; font-weight: bold\">2</span>   │  TPU <span style=\"color: #008080; text-decoration-color: #008080; font-weight: bold\">3</span>   │\n",
              "├──────────┼──────────┤\n",
              "│  TPU <span style=\"color: #008080; text-decoration-color: #008080; font-weight: bold\">6</span>   │  TPU <span style=\"color: #008080; text-decoration-color: #008080; font-weight: bold\">7</span>   │\n",
              "├──────────┼──────────┤\n",
              "│  TPU <span style=\"color: #008080; text-decoration-color: #008080; font-weight: bold\">4</span>   │  TPU <span style=\"color: #008080; text-decoration-color: #008080; font-weight: bold\">5</span>   │\n",
              "└──────────┴──────────┘\n",
              "</pre>\n"
            ],
            "text/plain": [
              "┌──────────┬──────────┐\n",
              "│  TPU \u001b[1;36m0\u001b[0m   │  TPU \u001b[1;36m1\u001b[0m   │\n",
              "├──────────┼──────────┤\n",
              "│  TPU \u001b[1;36m2\u001b[0m   │  TPU \u001b[1;36m3\u001b[0m   │\n",
              "├──────────┼──────────┤\n",
              "│  TPU \u001b[1;36m6\u001b[0m   │  TPU \u001b[1;36m7\u001b[0m   │\n",
              "├──────────┼──────────┤\n",
              "│  TPU \u001b[1;36m4\u001b[0m   │  TPU \u001b[1;36m5\u001b[0m   │\n",
              "└──────────┴──────────┘\n"
            ]
          },
          "metadata": {},
          "output_type": "display_data"
        },
        {
          "name": "stdout",
          "output_type": "stream",
          "text": [
            "output sharding: \n"
          ]
        },
        {
          "data": {
            "text/html": [
              "<pre style=\"white-space:pre;overflow-x:auto;line-height:normal;font-family:Menlo,'DejaVu Sans Mono',consolas,'Courier New',monospace\">┌──────────┬──────────┐\n",
              "│  TPU <span style=\"color: #008080; text-decoration-color: #008080; font-weight: bold\">0</span>   │  TPU <span style=\"color: #008080; text-decoration-color: #008080; font-weight: bold\">1</span>   │\n",
              "├──────────┼──────────┤\n",
              "│  TPU <span style=\"color: #008080; text-decoration-color: #008080; font-weight: bold\">2</span>   │  TPU <span style=\"color: #008080; text-decoration-color: #008080; font-weight: bold\">3</span>   │\n",
              "├──────────┼──────────┤\n",
              "│  TPU <span style=\"color: #008080; text-decoration-color: #008080; font-weight: bold\">6</span>   │  TPU <span style=\"color: #008080; text-decoration-color: #008080; font-weight: bold\">7</span>   │\n",
              "├──────────┼──────────┤\n",
              "│  TPU <span style=\"color: #008080; text-decoration-color: #008080; font-weight: bold\">4</span>   │  TPU <span style=\"color: #008080; text-decoration-color: #008080; font-weight: bold\">5</span>   │\n",
              "└──────────┴──────────┘\n",
              "</pre>\n"
            ],
            "text/plain": [
              "┌──────────┬──────────┐\n",
              "│  TPU \u001b[1;36m0\u001b[0m   │  TPU \u001b[1;36m1\u001b[0m   │\n",
              "├──────────┼──────────┤\n",
              "│  TPU \u001b[1;36m2\u001b[0m   │  TPU \u001b[1;36m3\u001b[0m   │\n",
              "├──────────┼──────────┤\n",
              "│  TPU \u001b[1;36m6\u001b[0m   │  TPU \u001b[1;36m7\u001b[0m   │\n",
              "├──────────┼──────────┤\n",
              "│  TPU \u001b[1;36m4\u001b[0m   │  TPU \u001b[1;36m5\u001b[0m   │\n",
              "└──────────┴──────────┘\n"
            ]
          },
          "metadata": {},
          "output_type": "display_data"
        }
      ],
      "source": [
        "x = jax.device_put(x, sharding.reshape(4, 2))\n",
        "print('input sharding: ')\n",
        "jax.debug.visualize_array_sharding(x)\n",
        "\n",
        "y = jnp.sin(x)\n",
        "print('output sharding: ')\n",
        "jax.debug.visualize_array_sharding(y)"
      ]
    },
    {
      "cell_type": "markdown",
      "metadata": {
        "id": "hp-mfoGIgNXJ"
      },
      "source": [
        "We can do the same for more than jus elementwise operation."
      ]
    },
    {
      "cell_type": "code",
      "execution_count": 27,
      "metadata": {
        "colab": {
          "base_uri": "https://localhost:8080/",
          "height": 648
        },
        "id": "Vr6Ya1PAgEZo",
        "outputId": "51c65c18-0389-453f-e4d6-1b2702e0a139"
      },
      "outputs": [
        {
          "name": "stdout",
          "output_type": "stream",
          "text": [
            "lhs sharding:\n"
          ]
        },
        {
          "data": {
            "text/html": [
              "<pre style=\"white-space:pre;overflow-x:auto;line-height:normal;font-family:Menlo,'DejaVu Sans Mono',consolas,'Courier New',monospace\">┌───────────────────────┐\n",
              "│        TPU <span style=\"color: #008080; text-decoration-color: #008080; font-weight: bold\">0</span>,<span style=\"color: #008080; text-decoration-color: #008080; font-weight: bold\">1</span>        │\n",
              "├───────────────────────┤\n",
              "│        TPU <span style=\"color: #008080; text-decoration-color: #008080; font-weight: bold\">2</span>,<span style=\"color: #008080; text-decoration-color: #008080; font-weight: bold\">3</span>        │\n",
              "├───────────────────────┤\n",
              "│        TPU <span style=\"color: #008080; text-decoration-color: #008080; font-weight: bold\">6</span>,<span style=\"color: #008080; text-decoration-color: #008080; font-weight: bold\">7</span>        │\n",
              "├───────────────────────┤\n",
              "│        TPU <span style=\"color: #008080; text-decoration-color: #008080; font-weight: bold\">4</span>,<span style=\"color: #008080; text-decoration-color: #008080; font-weight: bold\">5</span>        │\n",
              "└───────────────────────┘\n",
              "</pre>\n"
            ],
            "text/plain": [
              "┌───────────────────────┐\n",
              "│        TPU \u001b[1;36m0\u001b[0m,\u001b[1;36m1\u001b[0m        │\n",
              "├───────────────────────┤\n",
              "│        TPU \u001b[1;36m2\u001b[0m,\u001b[1;36m3\u001b[0m        │\n",
              "├───────────────────────┤\n",
              "│        TPU \u001b[1;36m6\u001b[0m,\u001b[1;36m7\u001b[0m        │\n",
              "├───────────────────────┤\n",
              "│        TPU \u001b[1;36m4\u001b[0m,\u001b[1;36m5\u001b[0m        │\n",
              "└───────────────────────┘\n"
            ]
          },
          "metadata": {},
          "output_type": "display_data"
        },
        {
          "name": "stdout",
          "output_type": "stream",
          "text": [
            "rhs sharding:\n"
          ]
        },
        {
          "data": {
            "text/html": [
              "<pre style=\"white-space:pre;overflow-x:auto;line-height:normal;font-family:Menlo,'DejaVu Sans Mono',consolas,'Courier New',monospace\">┌───────────┬───────────┐\n",
              "│           │           │\n",
              "│           │           │\n",
              "│           │           │\n",
              "│           │           │\n",
              "│TPU <span style=\"color: #008080; text-decoration-color: #008080; font-weight: bold\">0</span>,<span style=\"color: #008080; text-decoration-color: #008080; font-weight: bold\">2</span>,<span style=\"color: #008080; text-decoration-color: #008080; font-weight: bold\">4</span>,<span style=\"color: #008080; text-decoration-color: #008080; font-weight: bold\">6</span>│TPU <span style=\"color: #008080; text-decoration-color: #008080; font-weight: bold\">1</span>,<span style=\"color: #008080; text-decoration-color: #008080; font-weight: bold\">3</span>,<span style=\"color: #008080; text-decoration-color: #008080; font-weight: bold\">5</span>,<span style=\"color: #008080; text-decoration-color: #008080; font-weight: bold\">7</span>│\n",
              "│           │           │\n",
              "│           │           │\n",
              "│           │           │\n",
              "│           │           │\n",
              "└───────────┴───────────┘\n",
              "</pre>\n"
            ],
            "text/plain": [
              "┌───────────┬───────────┐\n",
              "│           │           │\n",
              "│           │           │\n",
              "│           │           │\n",
              "│           │           │\n",
              "│TPU \u001b[1;36m0\u001b[0m,\u001b[1;36m2\u001b[0m,\u001b[1;36m4\u001b[0m,\u001b[1;36m6\u001b[0m│TPU \u001b[1;36m1\u001b[0m,\u001b[1;36m3\u001b[0m,\u001b[1;36m5\u001b[0m,\u001b[1;36m7\u001b[0m│\n",
              "│           │           │\n",
              "│           │           │\n",
              "│           │           │\n",
              "│           │           │\n",
              "└───────────┴───────────┘\n"
            ]
          },
          "metadata": {},
          "output_type": "display_data"
        },
        {
          "name": "stdout",
          "output_type": "stream",
          "text": [
            "out sharding:\n"
          ]
        },
        {
          "data": {
            "text/html": [
              "<pre style=\"white-space:pre;overflow-x:auto;line-height:normal;font-family:Menlo,'DejaVu Sans Mono',consolas,'Courier New',monospace\">┌──────────┬──────────┐\n",
              "│  TPU <span style=\"color: #008080; text-decoration-color: #008080; font-weight: bold\">0</span>   │  TPU <span style=\"color: #008080; text-decoration-color: #008080; font-weight: bold\">1</span>   │\n",
              "├──────────┼──────────┤\n",
              "│  TPU <span style=\"color: #008080; text-decoration-color: #008080; font-weight: bold\">2</span>   │  TPU <span style=\"color: #008080; text-decoration-color: #008080; font-weight: bold\">3</span>   │\n",
              "├──────────┼──────────┤\n",
              "│  TPU <span style=\"color: #008080; text-decoration-color: #008080; font-weight: bold\">6</span>   │  TPU <span style=\"color: #008080; text-decoration-color: #008080; font-weight: bold\">7</span>   │\n",
              "├──────────┼──────────┤\n",
              "│  TPU <span style=\"color: #008080; text-decoration-color: #008080; font-weight: bold\">4</span>   │  TPU <span style=\"color: #008080; text-decoration-color: #008080; font-weight: bold\">5</span>   │\n",
              "└──────────┴──────────┘\n",
              "</pre>\n"
            ],
            "text/plain": [
              "┌──────────┬──────────┐\n",
              "│  TPU \u001b[1;36m0\u001b[0m   │  TPU \u001b[1;36m1\u001b[0m   │\n",
              "├──────────┼──────────┤\n",
              "│  TPU \u001b[1;36m2\u001b[0m   │  TPU \u001b[1;36m3\u001b[0m   │\n",
              "├──────────┼──────────┤\n",
              "│  TPU \u001b[1;36m6\u001b[0m   │  TPU \u001b[1;36m7\u001b[0m   │\n",
              "├──────────┼──────────┤\n",
              "│  TPU \u001b[1;36m4\u001b[0m   │  TPU \u001b[1;36m5\u001b[0m   │\n",
              "└──────────┴──────────┘\n"
            ]
          },
          "metadata": {},
          "output_type": "display_data"
        }
      ],
      "source": [
        "y = jax.device_put(x, sharding.reshape(4, 2).replicate(1))\n",
        "z = jax.device_put(x, sharding.reshape(4, 2).replicate(0))\n",
        "\n",
        "print('lhs sharding:')\n",
        "jax.debug.visualize_array_sharding(y)\n",
        "print('rhs sharding:')\n",
        "jax.debug.visualize_array_sharding(z)\n",
        "\n",
        "w = jnp.dot(y, z)\n",
        "print('out sharding:')\n",
        "jax.debug.visualize_array_sharding(w)"
      ]
    },
    {
      "cell_type": "markdown",
      "metadata": {
        "id": "X02c57rojIHc"
      },
      "source": [
        "Let's do the timing experiment for running in parallel."
      ]
    },
    {
      "cell_type": "code",
      "execution_count": 28,
      "metadata": {
        "colab": {
          "base_uri": "https://localhost:8080/",
          "height": 199
        },
        "id": "A5DWP10dg7G3",
        "outputId": "a55d3c02-368d-490e-f00c-dad97537424b"
      },
      "outputs": [
        {
          "data": {
            "text/html": [
              "<pre style=\"white-space:pre;overflow-x:auto;line-height:normal;font-family:Menlo,'DejaVu Sans Mono',consolas,'Courier New',monospace\">┌───────────────────────┐\n",
              "│                       │\n",
              "│                       │\n",
              "│                       │\n",
              "│                       │\n",
              "│         TPU <span style=\"color: #008080; text-decoration-color: #008080; font-weight: bold\">0</span>         │\n",
              "│                       │\n",
              "│                       │\n",
              "│                       │\n",
              "│                       │\n",
              "└───────────────────────┘\n",
              "</pre>\n"
            ],
            "text/plain": [
              "┌───────────────────────┐\n",
              "│                       │\n",
              "│                       │\n",
              "│                       │\n",
              "│                       │\n",
              "│         TPU \u001b[1;36m0\u001b[0m         │\n",
              "│                       │\n",
              "│                       │\n",
              "│                       │\n",
              "│                       │\n",
              "└───────────────────────┘\n"
            ]
          },
          "metadata": {},
          "output_type": "display_data"
        }
      ],
      "source": [
        "x_single = jax.device_put(x, jax.devices()[0])\n",
        "jax.debug.visualize_array_sharding(x_single)"
      ]
    },
    {
      "cell_type": "code",
      "execution_count": 29,
      "metadata": {
        "colab": {
          "base_uri": "https://localhost:8080/"
        },
        "id": "SO6Ok7Jrivhe",
        "outputId": "bc2e0924-20d1-4ef6-af52-0427d8913dc5"
      },
      "outputs": [
        {
          "data": {
            "text/plain": [
              "True"
            ]
          },
          "execution_count": 29,
          "metadata": {},
          "output_type": "execute_result"
        }
      ],
      "source": [
        "np.allclose(jnp.dot(x_single, x_single), jnp.dot(y, z))"
      ]
    },
    {
      "cell_type": "code",
      "execution_count": 30,
      "metadata": {
        "id": "Y2EhbcnJjioN"
      },
      "outputs": [
        {
          "name": "stdout",
          "output_type": "stream",
          "text": [
            "19.9 ms ± 176 µs per loop (mean ± std. dev. of 5 runs, 5 loops each)\n"
          ]
        }
      ],
      "source": [
        "%timeit -n 5 -r 5 jnp.dot(x_single, x_single).block_until_ready()"
      ]
    },
    {
      "cell_type": "code",
      "execution_count": 31,
      "metadata": {
        "id": "4bFgyLGNj6F6"
      },
      "outputs": [
        {
          "name": "stdout",
          "output_type": "stream",
          "text": [
            "3.45 ms ± 62.7 µs per loop (mean ± std. dev. of 5 runs, 5 loops each)\n"
          ]
        }
      ],
      "source": [
        "%timeit -n 5 -r 5 jnp.dot(y, z).block_until_ready()"
      ]
    },
    {
      "cell_type": "markdown",
      "metadata": {
        "id": "TPUEltYNkCXk"
      },
      "source": [
        "Even copying a sharded `Array` produces a sharded result."
      ]
    },
    {
      "cell_type": "code",
      "execution_count": 32,
      "metadata": {
        "id": "AXehPCr2kJ8z"
      },
      "outputs": [
        {
          "data": {
            "text/html": [
              "<pre style=\"white-space:pre;overflow-x:auto;line-height:normal;font-family:Menlo,'DejaVu Sans Mono',consolas,'Courier New',monospace\">┌──────────┬──────────┐\n",
              "│  TPU <span style=\"color: #008080; text-decoration-color: #008080; font-weight: bold\">0</span>   │  TPU <span style=\"color: #008080; text-decoration-color: #008080; font-weight: bold\">1</span>   │\n",
              "├──────────┼──────────┤\n",
              "│  TPU <span style=\"color: #008080; text-decoration-color: #008080; font-weight: bold\">2</span>   │  TPU <span style=\"color: #008080; text-decoration-color: #008080; font-weight: bold\">3</span>   │\n",
              "├──────────┼──────────┤\n",
              "│  TPU <span style=\"color: #008080; text-decoration-color: #008080; font-weight: bold\">6</span>   │  TPU <span style=\"color: #008080; text-decoration-color: #008080; font-weight: bold\">7</span>   │\n",
              "├──────────┼──────────┤\n",
              "│  TPU <span style=\"color: #008080; text-decoration-color: #008080; font-weight: bold\">4</span>   │  TPU <span style=\"color: #008080; text-decoration-color: #008080; font-weight: bold\">5</span>   │\n",
              "└──────────┴──────────┘\n",
              "</pre>\n"
            ],
            "text/plain": [
              "┌──────────┬──────────┐\n",
              "│  TPU \u001b[1;36m0\u001b[0m   │  TPU \u001b[1;36m1\u001b[0m   │\n",
              "├──────────┼──────────┤\n",
              "│  TPU \u001b[1;36m2\u001b[0m   │  TPU \u001b[1;36m3\u001b[0m   │\n",
              "├──────────┼──────────┤\n",
              "│  TPU \u001b[1;36m6\u001b[0m   │  TPU \u001b[1;36m7\u001b[0m   │\n",
              "├──────────┼──────────┤\n",
              "│  TPU \u001b[1;36m4\u001b[0m   │  TPU \u001b[1;36m5\u001b[0m   │\n",
              "└──────────┴──────────┘\n"
            ]
          },
          "metadata": {},
          "output_type": "display_data"
        }
      ],
      "source": [
        "w_copy = jnp.copy(w)\n",
        "jax.debug.visualize_array_sharding(w_copy)"
      ]
    },
    {
      "cell_type": "markdown",
      "metadata": {},
      "source": [
        "If the sharding axis is reversed, the result value is same. The only difference is the replication."
      ]
    },
    {
      "cell_type": "code",
      "execution_count": 33,
      "metadata": {},
      "outputs": [
        {
          "data": {
            "text/html": [
              "<pre style=\"white-space:pre;overflow-x:auto;line-height:normal;font-family:Menlo,'DejaVu Sans Mono',consolas,'Courier New',monospace\">┌───────────────────────┐\n",
              "│                       │\n",
              "│                       │\n",
              "│                       │\n",
              "│                       │\n",
              "│  TPU <span style=\"color: #008080; text-decoration-color: #008080; font-weight: bold\">0</span>,<span style=\"color: #008080; text-decoration-color: #008080; font-weight: bold\">1</span>,<span style=\"color: #008080; text-decoration-color: #008080; font-weight: bold\">2</span>,<span style=\"color: #008080; text-decoration-color: #008080; font-weight: bold\">3</span>,<span style=\"color: #008080; text-decoration-color: #008080; font-weight: bold\">4</span>,<span style=\"color: #008080; text-decoration-color: #008080; font-weight: bold\">5</span>,<span style=\"color: #008080; text-decoration-color: #008080; font-weight: bold\">6</span>,<span style=\"color: #008080; text-decoration-color: #008080; font-weight: bold\">7</span>  │\n",
              "│                       │\n",
              "│                       │\n",
              "│                       │\n",
              "│                       │\n",
              "└───────────────────────┘\n",
              "</pre>\n"
            ],
            "text/plain": [
              "┌───────────────────────┐\n",
              "│                       │\n",
              "│                       │\n",
              "│                       │\n",
              "│                       │\n",
              "│  TPU \u001b[1;36m0\u001b[0m,\u001b[1;36m1\u001b[0m,\u001b[1;36m2\u001b[0m,\u001b[1;36m3\u001b[0m,\u001b[1;36m4\u001b[0m,\u001b[1;36m5\u001b[0m,\u001b[1;36m6\u001b[0m,\u001b[1;36m7\u001b[0m  │\n",
              "│                       │\n",
              "│                       │\n",
              "│                       │\n",
              "│                       │\n",
              "└───────────────────────┘\n"
            ]
          },
          "metadata": {},
          "output_type": "display_data"
        }
      ],
      "source": [
        "w_wrong = jnp.dot(z, y)\n",
        "jax.debug.visualize_array_sharding(w_wrong)"
      ]
    },
    {
      "cell_type": "code",
      "execution_count": 34,
      "metadata": {},
      "outputs": [
        {
          "data": {
            "text/plain": [
              "True"
            ]
          },
          "execution_count": 34,
          "metadata": {},
          "output_type": "execute_result"
        }
      ],
      "source": [
        "np.allclose(jnp.dot(x_single, x_single), jnp.dot(z, y))"
      ]
    },
    {
      "cell_type": "code",
      "execution_count": 35,
      "metadata": {},
      "outputs": [
        {
          "name": "stdout",
          "output_type": "stream",
          "text": [
            "23.7 ms ± 224 µs per loop (mean ± std. dev. of 5 runs, 5 loops each)\n"
          ]
        }
      ],
      "source": [
        "%timeit -n 5 -r 5 jnp.dot(z, y).block_until_ready()"
      ]
    },
    {
      "cell_type": "markdown",
      "metadata": {},
      "source": [
        "If the replication is wrong, matrix multiplication gives wrong result."
      ]
    },
    {
      "cell_type": "code",
      "execution_count": 36,
      "metadata": {},
      "outputs": [
        {
          "data": {
            "text/html": [
              "<pre style=\"white-space:pre;overflow-x:auto;line-height:normal;font-family:Menlo,'DejaVu Sans Mono',consolas,'Courier New',monospace\">┌───────────────────────┐\n",
              "│        TPU <span style=\"color: #008080; text-decoration-color: #008080; font-weight: bold\">0</span>,<span style=\"color: #008080; text-decoration-color: #008080; font-weight: bold\">1</span>        │\n",
              "├───────────────────────┤\n",
              "│        TPU <span style=\"color: #008080; text-decoration-color: #008080; font-weight: bold\">2</span>,<span style=\"color: #008080; text-decoration-color: #008080; font-weight: bold\">3</span>        │\n",
              "├───────────────────────┤\n",
              "│        TPU <span style=\"color: #008080; text-decoration-color: #008080; font-weight: bold\">6</span>,<span style=\"color: #008080; text-decoration-color: #008080; font-weight: bold\">7</span>        │\n",
              "├───────────────────────┤\n",
              "│        TPU <span style=\"color: #008080; text-decoration-color: #008080; font-weight: bold\">4</span>,<span style=\"color: #008080; text-decoration-color: #008080; font-weight: bold\">5</span>        │\n",
              "└───────────────────────┘\n",
              "</pre>\n"
            ],
            "text/plain": [
              "┌───────────────────────┐\n",
              "│        TPU \u001b[1;36m0\u001b[0m,\u001b[1;36m1\u001b[0m        │\n",
              "├───────────────────────┤\n",
              "│        TPU \u001b[1;36m2\u001b[0m,\u001b[1;36m3\u001b[0m        │\n",
              "├───────────────────────┤\n",
              "│        TPU \u001b[1;36m6\u001b[0m,\u001b[1;36m7\u001b[0m        │\n",
              "├───────────────────────┤\n",
              "│        TPU \u001b[1;36m4\u001b[0m,\u001b[1;36m5\u001b[0m        │\n",
              "└───────────────────────┘\n"
            ]
          },
          "metadata": {},
          "output_type": "display_data"
        }
      ],
      "source": [
        "n = jax.device_put(x, sharding.reshape(4, 2))\n",
        "m = jax.device_put(x, sharding.reshape(2, 4))\n",
        "\n",
        "k = jnp.dot(n, m)\n",
        "jax.debug.visualize_array_sharding(k)"
      ]
    },
    {
      "cell_type": "code",
      "execution_count": 37,
      "metadata": {},
      "outputs": [
        {
          "data": {
            "text/plain": [
              "False"
            ]
          },
          "execution_count": 37,
          "metadata": {},
          "output_type": "execute_result"
        }
      ],
      "source": [
        "np.allclose(jnp.dot(x_single, x_single), k)"
      ]
    },
    {
      "cell_type": "markdown",
      "metadata": {},
      "source": [
        "# Constraining shardings of intermediates in `jit`ted code"
      ]
    },
    {
      "cell_type": "code",
      "execution_count": 38,
      "metadata": {},
      "outputs": [],
      "source": [
        "sharding = PositionalSharding(mesh_utils.create_device_mesh((8,)))"
      ]
    },
    {
      "cell_type": "code",
      "execution_count": 39,
      "metadata": {},
      "outputs": [],
      "source": [
        "x = jax.random.normal(jax.random.key(0), (8192, 8192))\n",
        "x = jax.device_put(x, sharding.reshape(4, 2))"
      ]
    },
    {
      "cell_type": "code",
      "execution_count": 40,
      "metadata": {},
      "outputs": [],
      "source": [
        "@jax.jit\n",
        "def f(x):\n",
        "    x = x + 1\n",
        "    y = jax.lax.with_sharding_constraint(x, sharding.reshape(2, 4))\n",
        "    return y"
      ]
    },
    {
      "cell_type": "code",
      "execution_count": 41,
      "metadata": {},
      "outputs": [
        {
          "data": {
            "text/html": [
              "<pre style=\"white-space:pre;overflow-x:auto;line-height:normal;font-family:Menlo,'DejaVu Sans Mono',consolas,'Courier New',monospace\">┌──────────┬──────────┐\n",
              "│  TPU <span style=\"color: #008080; text-decoration-color: #008080; font-weight: bold\">0</span>   │  TPU <span style=\"color: #008080; text-decoration-color: #008080; font-weight: bold\">1</span>   │\n",
              "├──────────┼──────────┤\n",
              "│  TPU <span style=\"color: #008080; text-decoration-color: #008080; font-weight: bold\">2</span>   │  TPU <span style=\"color: #008080; text-decoration-color: #008080; font-weight: bold\">3</span>   │\n",
              "├──────────┼──────────┤\n",
              "│  TPU <span style=\"color: #008080; text-decoration-color: #008080; font-weight: bold\">6</span>   │  TPU <span style=\"color: #008080; text-decoration-color: #008080; font-weight: bold\">7</span>   │\n",
              "├──────────┼──────────┤\n",
              "│  TPU <span style=\"color: #008080; text-decoration-color: #008080; font-weight: bold\">4</span>   │  TPU <span style=\"color: #008080; text-decoration-color: #008080; font-weight: bold\">5</span>   │\n",
              "└──────────┴──────────┘\n",
              "</pre>\n"
            ],
            "text/plain": [
              "┌──────────┬──────────┐\n",
              "│  TPU \u001b[1;36m0\u001b[0m   │  TPU \u001b[1;36m1\u001b[0m   │\n",
              "├──────────┼──────────┤\n",
              "│  TPU \u001b[1;36m2\u001b[0m   │  TPU \u001b[1;36m3\u001b[0m   │\n",
              "├──────────┼──────────┤\n",
              "│  TPU \u001b[1;36m6\u001b[0m   │  TPU \u001b[1;36m7\u001b[0m   │\n",
              "├──────────┼──────────┤\n",
              "│  TPU \u001b[1;36m4\u001b[0m   │  TPU \u001b[1;36m5\u001b[0m   │\n",
              "└──────────┴──────────┘\n"
            ]
          },
          "metadata": {},
          "output_type": "display_data"
        },
        {
          "data": {
            "text/html": [
              "<pre style=\"white-space:pre;overflow-x:auto;line-height:normal;font-family:Menlo,'DejaVu Sans Mono',consolas,'Courier New',monospace\">┌───────┬───────┬───────┬───────┐\n",
              "│       │       │       │       │\n",
              "│ TPU <span style=\"color: #008080; text-decoration-color: #008080; font-weight: bold\">0</span> │ TPU <span style=\"color: #008080; text-decoration-color: #008080; font-weight: bold\">1</span> │ TPU <span style=\"color: #008080; text-decoration-color: #008080; font-weight: bold\">2</span> │ TPU <span style=\"color: #008080; text-decoration-color: #008080; font-weight: bold\">3</span> │\n",
              "│       │       │       │       │\n",
              "│       │       │       │       │\n",
              "├───────┼───────┼───────┼───────┤\n",
              "│       │       │       │       │\n",
              "│ TPU <span style=\"color: #008080; text-decoration-color: #008080; font-weight: bold\">6</span> │ TPU <span style=\"color: #008080; text-decoration-color: #008080; font-weight: bold\">7</span> │ TPU <span style=\"color: #008080; text-decoration-color: #008080; font-weight: bold\">4</span> │ TPU <span style=\"color: #008080; text-decoration-color: #008080; font-weight: bold\">5</span> │\n",
              "│       │       │       │       │\n",
              "│       │       │       │       │\n",
              "└───────┴───────┴───────┴───────┘\n",
              "</pre>\n"
            ],
            "text/plain": [
              "┌───────┬───────┬───────┬───────┐\n",
              "│       │       │       │       │\n",
              "│ TPU \u001b[1;36m0\u001b[0m │ TPU \u001b[1;36m1\u001b[0m │ TPU \u001b[1;36m2\u001b[0m │ TPU \u001b[1;36m3\u001b[0m │\n",
              "│       │       │       │       │\n",
              "│       │       │       │       │\n",
              "├───────┼───────┼───────┼───────┤\n",
              "│       │       │       │       │\n",
              "│ TPU \u001b[1;36m6\u001b[0m │ TPU \u001b[1;36m7\u001b[0m │ TPU \u001b[1;36m4\u001b[0m │ TPU \u001b[1;36m5\u001b[0m │\n",
              "│       │       │       │       │\n",
              "│       │       │       │       │\n",
              "└───────┴───────┴───────┴───────┘\n"
            ]
          },
          "metadata": {},
          "output_type": "display_data"
        }
      ],
      "source": [
        "jax.debug.visualize_array_sharding(x)\n",
        "y = f(x)\n",
        "jax.debug.visualize_array_sharding(y)"
      ]
    },
    {
      "cell_type": "markdown",
      "metadata": {},
      "source": [
        "# Examples: neural networks"
      ]
    },
    {
      "cell_type": "code",
      "execution_count": 42,
      "metadata": {},
      "outputs": [],
      "source": [
        "import jax\n",
        "import jax.numpy as jnp"
      ]
    },
    {
      "cell_type": "code",
      "execution_count": 43,
      "metadata": {},
      "outputs": [],
      "source": [
        "def predict(params, inputs):\n",
        "    for W, b in params:\n",
        "        outputs = jnp.dot(inputs, W) + b\n",
        "        inputs = jnp.maximum(outputs, 0)\n",
        "    return outputs\n",
        "\n",
        "def loss(params, batch):\n",
        "    inputs, targets = batch\n",
        "    predictions = predict(params, inputs)\n",
        "    return jnp.mean(np.sum((predictions - targets) ** 2, axis=-1))"
      ]
    },
    {
      "cell_type": "code",
      "execution_count": 44,
      "metadata": {},
      "outputs": [],
      "source": [
        "loss_jit = jax.jit(loss)\n",
        "gradfun = jax.jit(jax.grad(loss))"
      ]
    },
    {
      "cell_type": "code",
      "execution_count": 45,
      "metadata": {},
      "outputs": [],
      "source": [
        "def init_layer(key, n_in, n_out):\n",
        "    k1, k2 = jax.random.split(key)\n",
        "    W = jax.random.normal(k1, (n_in, n_out)) / jnp.sqrt(n_in)\n",
        "    b = jax.random.normal(k2, (n_out, ))\n",
        "    return W, b\n",
        "\n",
        "\n",
        "def init_model(key, layer_sizes, batch_size):\n",
        "    key, *keys = jax.random.split(key, len(layer_sizes))\n",
        "    params = list(map(init_layer, keys, layer_sizes[:-1], layer_sizes[1:]))\n",
        "\n",
        "    key, *keys = jax.random.split(key, 3)\n",
        "    inputs = jax.random.normal(keys[0], (batch_size, layer_sizes[0]))\n",
        "    targets = jax.random.normal(keys[1], (batch_size, layer_sizes[-1]))\n",
        "\n",
        "    return params, (inputs, targets)\n",
        "\n",
        "\n",
        "layer_sizes = [784, 8192, 8192, 8192, 10]\n",
        "batch_size = 8192\n",
        "\n",
        "params, batch = init_model(jax.random.key(0), layer_sizes, batch_size)"
      ]
    },
    {
      "cell_type": "markdown",
      "metadata": {},
      "source": [
        "## 8-way batch data parallelism"
      ]
    },
    {
      "cell_type": "code",
      "execution_count": 46,
      "metadata": {},
      "outputs": [],
      "source": [
        "sharding = PositionalSharding(jax.devices()).reshape(8, 1)"
      ]
    },
    {
      "cell_type": "code",
      "execution_count": 47,
      "metadata": {},
      "outputs": [],
      "source": [
        "batch = jax.device_put(batch, sharding)\n",
        "params = jax.device_put(params, sharding.replicate())"
      ]
    },
    {
      "cell_type": "code",
      "execution_count": 48,
      "metadata": {},
      "outputs": [
        {
          "data": {
            "text/plain": [
              "Array(23.469475, dtype=float32)"
            ]
          },
          "execution_count": 48,
          "metadata": {},
          "output_type": "execute_result"
        }
      ],
      "source": [
        "loss_jit(params, batch)"
      ]
    },
    {
      "cell_type": "code",
      "execution_count": 49,
      "metadata": {},
      "outputs": [
        {
          "name": "stdout",
          "output_type": "stream",
          "text": [
            "10.760101\n"
          ]
        }
      ],
      "source": [
        "step_size = 1e-5\n",
        "for _ in range(30):\n",
        "    grads = gradfun(params, batch)\n",
        "    params = [(W - step_size * dW, b - step_size * db)\n",
        "              for (W, b), (dW, db) in zip(params, grads)]\n",
        "    \n",
        "print(loss_jit(params, batch))"
      ]
    },
    {
      "cell_type": "code",
      "execution_count": 50,
      "metadata": {},
      "outputs": [
        {
          "name": "stdout",
          "output_type": "stream",
          "text": [
            "8.93 ms ± 46.5 µs per loop (mean ± std. dev. of 5 runs, 5 loops each)\n"
          ]
        }
      ],
      "source": [
        "%timeit -n 5 -r 5 loss_jit(params, batch).block_until_ready()"
      ]
    },
    {
      "cell_type": "code",
      "execution_count": 51,
      "metadata": {},
      "outputs": [],
      "source": [
        "batch_single = jax.device_put(batch, jax.devices()[0])\n",
        "params_single = jax.device_put(params, jax.devices()[0])"
      ]
    },
    {
      "cell_type": "code",
      "execution_count": 52,
      "metadata": {},
      "outputs": [
        {
          "name": "stdout",
          "output_type": "stream",
          "text": [
            "The slowest run took 6.00 times longer than the fastest. This could mean that an intermediate result is being cached.\n",
            "80 ms ± 80 ms per loop (mean ± std. dev. of 5 runs, 5 loops each)\n"
          ]
        }
      ],
      "source": [
        "%timeit -n 5 -r 5 loss_jit(params_single, batch_single).block_until_ready()"
      ]
    },
    {
      "cell_type": "markdown",
      "metadata": {},
      "source": [
        "## 4-way batch data parallelism and 2-way model tensor parallelism"
      ]
    },
    {
      "cell_type": "code",
      "execution_count": 53,
      "metadata": {},
      "outputs": [],
      "source": [
        "sharding = sharding.reshape(4, 2)"
      ]
    },
    {
      "cell_type": "code",
      "execution_count": 54,
      "metadata": {},
      "outputs": [
        {
          "data": {
            "text/html": [
              "<pre style=\"white-space:pre;overflow-x:auto;line-height:normal;font-family:Menlo,'DejaVu Sans Mono',consolas,'Courier New',monospace\">┌───────┐\n",
              "│TPU <span style=\"color: #008080; text-decoration-color: #008080; font-weight: bold\">0</span>,<span style=\"color: #008080; text-decoration-color: #008080; font-weight: bold\">1</span>│\n",
              "├───────┤\n",
              "│TPU <span style=\"color: #008080; text-decoration-color: #008080; font-weight: bold\">2</span>,<span style=\"color: #008080; text-decoration-color: #008080; font-weight: bold\">3</span>│\n",
              "├───────┤\n",
              "│TPU <span style=\"color: #008080; text-decoration-color: #008080; font-weight: bold\">4</span>,<span style=\"color: #008080; text-decoration-color: #008080; font-weight: bold\">5</span>│\n",
              "├───────┤\n",
              "│TPU <span style=\"color: #008080; text-decoration-color: #008080; font-weight: bold\">6</span>,<span style=\"color: #008080; text-decoration-color: #008080; font-weight: bold\">7</span>│\n",
              "└───────┘\n",
              "</pre>\n"
            ],
            "text/plain": [
              "┌───────┐\n",
              "│TPU \u001b[1;36m0\u001b[0m,\u001b[1;36m1\u001b[0m│\n",
              "├───────┤\n",
              "│TPU \u001b[1;36m2\u001b[0m,\u001b[1;36m3\u001b[0m│\n",
              "├───────┤\n",
              "│TPU \u001b[1;36m4\u001b[0m,\u001b[1;36m5\u001b[0m│\n",
              "├───────┤\n",
              "│TPU \u001b[1;36m6\u001b[0m,\u001b[1;36m7\u001b[0m│\n",
              "└───────┘\n"
            ]
          },
          "metadata": {},
          "output_type": "display_data"
        },
        {
          "data": {
            "text/html": [
              "<pre style=\"white-space:pre;overflow-x:auto;line-height:normal;font-family:Menlo,'DejaVu Sans Mono',consolas,'Courier New',monospace\">┌───────┐\n",
              "│TPU <span style=\"color: #008080; text-decoration-color: #008080; font-weight: bold\">0</span>,<span style=\"color: #008080; text-decoration-color: #008080; font-weight: bold\">1</span>│\n",
              "├───────┤\n",
              "│TPU <span style=\"color: #008080; text-decoration-color: #008080; font-weight: bold\">2</span>,<span style=\"color: #008080; text-decoration-color: #008080; font-weight: bold\">3</span>│\n",
              "├───────┤\n",
              "│TPU <span style=\"color: #008080; text-decoration-color: #008080; font-weight: bold\">4</span>,<span style=\"color: #008080; text-decoration-color: #008080; font-weight: bold\">5</span>│\n",
              "├───────┤\n",
              "│TPU <span style=\"color: #008080; text-decoration-color: #008080; font-weight: bold\">6</span>,<span style=\"color: #008080; text-decoration-color: #008080; font-weight: bold\">7</span>│\n",
              "└───────┘\n",
              "</pre>\n"
            ],
            "text/plain": [
              "┌───────┐\n",
              "│TPU \u001b[1;36m0\u001b[0m,\u001b[1;36m1\u001b[0m│\n",
              "├───────┤\n",
              "│TPU \u001b[1;36m2\u001b[0m,\u001b[1;36m3\u001b[0m│\n",
              "├───────┤\n",
              "│TPU \u001b[1;36m4\u001b[0m,\u001b[1;36m5\u001b[0m│\n",
              "├───────┤\n",
              "│TPU \u001b[1;36m6\u001b[0m,\u001b[1;36m7\u001b[0m│\n",
              "└───────┘\n"
            ]
          },
          "metadata": {},
          "output_type": "display_data"
        }
      ],
      "source": [
        "batch = jax.device_put(batch, sharding.replicate(1))\n",
        "jax.debug.visualize_array_sharding(batch[0])\n",
        "jax.debug.visualize_array_sharding(batch[1])"
      ]
    },
    {
      "cell_type": "code",
      "execution_count": 62,
      "metadata": {},
      "outputs": [],
      "source": [
        "(W1, b1), (W2, b2), (W3, b3), (W4, b4) = params\n",
        "\n",
        "W1 = jax.device_put(W1, sharding.replicate())\n",
        "b1 = jax.device_put(b1, sharding.replicate())\n",
        "\n",
        "W2 = jax.device_put(W2, sharding.replicate(0))\n",
        "b2 = jax.device_put(b2, sharding.replicate(0))\n",
        "\n",
        "W3 = jax.device_put(W3, sharding.replicate(0).T)\n",
        "b3 = jax.device_put(b3, sharding.replicate())\n",
        "                    \n",
        "W4 = jax.device_put(W4, sharding.replicate())\n",
        "b4 = jax.device_put(b4, sharding.replicate())\n",
        "\n",
        "params = (W1, b1), (W2, b2), (W3, b3), (W4, b4)"
      ]
    },
    {
      "cell_type": "code",
      "execution_count": 63,
      "metadata": {},
      "outputs": [
        {
          "data": {
            "text/html": [
              "<pre style=\"white-space:pre;overflow-x:auto;line-height:normal;font-family:Menlo,'DejaVu Sans Mono',consolas,'Courier New',monospace\">┌───────────┬───────────┐\n",
              "│           │           │\n",
              "│           │           │\n",
              "│           │           │\n",
              "│           │           │\n",
              "│TPU <span style=\"color: #008080; text-decoration-color: #008080; font-weight: bold\">0</span>,<span style=\"color: #008080; text-decoration-color: #008080; font-weight: bold\">2</span>,<span style=\"color: #008080; text-decoration-color: #008080; font-weight: bold\">4</span>,<span style=\"color: #008080; text-decoration-color: #008080; font-weight: bold\">6</span>│TPU <span style=\"color: #008080; text-decoration-color: #008080; font-weight: bold\">1</span>,<span style=\"color: #008080; text-decoration-color: #008080; font-weight: bold\">3</span>,<span style=\"color: #008080; text-decoration-color: #008080; font-weight: bold\">5</span>,<span style=\"color: #008080; text-decoration-color: #008080; font-weight: bold\">7</span>│\n",
              "│           │           │\n",
              "│           │           │\n",
              "│           │           │\n",
              "│           │           │\n",
              "└───────────┴───────────┘\n",
              "</pre>\n"
            ],
            "text/plain": [
              "┌───────────┬───────────┐\n",
              "│           │           │\n",
              "│           │           │\n",
              "│           │           │\n",
              "│           │           │\n",
              "│TPU \u001b[1;36m0\u001b[0m,\u001b[1;36m2\u001b[0m,\u001b[1;36m4\u001b[0m,\u001b[1;36m6\u001b[0m│TPU \u001b[1;36m1\u001b[0m,\u001b[1;36m3\u001b[0m,\u001b[1;36m5\u001b[0m,\u001b[1;36m7\u001b[0m│\n",
              "│           │           │\n",
              "│           │           │\n",
              "│           │           │\n",
              "│           │           │\n",
              "└───────────┴───────────┘\n"
            ]
          },
          "metadata": {},
          "output_type": "display_data"
        }
      ],
      "source": [
        "jax.debug.visualize_array_sharding(W2)"
      ]
    },
    {
      "cell_type": "code",
      "execution_count": 64,
      "metadata": {},
      "outputs": [
        {
          "data": {
            "text/html": [
              "<pre style=\"white-space:pre;overflow-x:auto;line-height:normal;font-family:Menlo,'DejaVu Sans Mono',consolas,'Courier New',monospace\">┌───────────────────────┐\n",
              "│                       │\n",
              "│      TPU <span style=\"color: #008080; text-decoration-color: #008080; font-weight: bold\">0</span>,<span style=\"color: #008080; text-decoration-color: #008080; font-weight: bold\">2</span>,<span style=\"color: #008080; text-decoration-color: #008080; font-weight: bold\">4</span>,<span style=\"color: #008080; text-decoration-color: #008080; font-weight: bold\">6</span>      │\n",
              "│                       │\n",
              "│                       │\n",
              "├───────────────────────┤\n",
              "│                       │\n",
              "│      TPU <span style=\"color: #008080; text-decoration-color: #008080; font-weight: bold\">1</span>,<span style=\"color: #008080; text-decoration-color: #008080; font-weight: bold\">3</span>,<span style=\"color: #008080; text-decoration-color: #008080; font-weight: bold\">5</span>,<span style=\"color: #008080; text-decoration-color: #008080; font-weight: bold\">7</span>      │\n",
              "│                       │\n",
              "│                       │\n",
              "└───────────────────────┘\n",
              "</pre>\n"
            ],
            "text/plain": [
              "┌───────────────────────┐\n",
              "│                       │\n",
              "│      TPU \u001b[1;36m0\u001b[0m,\u001b[1;36m2\u001b[0m,\u001b[1;36m4\u001b[0m,\u001b[1;36m6\u001b[0m      │\n",
              "│                       │\n",
              "│                       │\n",
              "├───────────────────────┤\n",
              "│                       │\n",
              "│      TPU \u001b[1;36m1\u001b[0m,\u001b[1;36m3\u001b[0m,\u001b[1;36m5\u001b[0m,\u001b[1;36m7\u001b[0m      │\n",
              "│                       │\n",
              "│                       │\n",
              "└───────────────────────┘\n"
            ]
          },
          "metadata": {},
          "output_type": "display_data"
        }
      ],
      "source": [
        "jax.debug.visualize_array_sharding(W3)"
      ]
    },
    {
      "cell_type": "code",
      "execution_count": 65,
      "metadata": {},
      "outputs": [
        {
          "name": "stdout",
          "output_type": "stream",
          "text": [
            "10.760103\n"
          ]
        }
      ],
      "source": [
        "print(loss_jit(params, batch))"
      ]
    },
    {
      "cell_type": "code",
      "execution_count": 74,
      "metadata": {},
      "outputs": [
        {
          "data": {
            "text/html": [
              "<pre style=\"white-space:pre;overflow-x:auto;line-height:normal;font-family:Menlo,'DejaVu Sans Mono',consolas,'Courier New',monospace\">┌───────────────────────┐\n",
              "│        TPU <span style=\"color: #008080; text-decoration-color: #008080; font-weight: bold\">0</span>,<span style=\"color: #008080; text-decoration-color: #008080; font-weight: bold\">1</span>        │\n",
              "├───────────────────────┤\n",
              "│        TPU <span style=\"color: #008080; text-decoration-color: #008080; font-weight: bold\">2</span>,<span style=\"color: #008080; text-decoration-color: #008080; font-weight: bold\">3</span>        │\n",
              "├───────────────────────┤\n",
              "│        TPU <span style=\"color: #008080; text-decoration-color: #008080; font-weight: bold\">4</span>,<span style=\"color: #008080; text-decoration-color: #008080; font-weight: bold\">5</span>        │\n",
              "├───────────────────────┤\n",
              "│        TPU <span style=\"color: #008080; text-decoration-color: #008080; font-weight: bold\">6</span>,<span style=\"color: #008080; text-decoration-color: #008080; font-weight: bold\">7</span>        │\n",
              "└───────────────────────┘\n",
              "</pre>\n"
            ],
            "text/plain": [
              "┌───────────────────────┐\n",
              "│        TPU \u001b[1;36m0\u001b[0m,\u001b[1;36m1\u001b[0m        │\n",
              "├───────────────────────┤\n",
              "│        TPU \u001b[1;36m2\u001b[0m,\u001b[1;36m3\u001b[0m        │\n",
              "├───────────────────────┤\n",
              "│        TPU \u001b[1;36m4\u001b[0m,\u001b[1;36m5\u001b[0m        │\n",
              "├───────────────────────┤\n",
              "│        TPU \u001b[1;36m6\u001b[0m,\u001b[1;36m7\u001b[0m        │\n",
              "└───────────────────────┘\n"
            ]
          },
          "metadata": {},
          "output_type": "display_data"
        }
      ],
      "source": [
        "jax.debug.visualize_array_sharding((batch[0] @ W1 + b1))"
      ]
    },
    {
      "cell_type": "markdown",
      "metadata": {},
      "source": [
        "the result after the second hidden layer becomes 4 by 2 sharded array"
      ]
    },
    {
      "cell_type": "code",
      "execution_count": 72,
      "metadata": {},
      "outputs": [
        {
          "data": {
            "text/html": [
              "<pre style=\"white-space:pre;overflow-x:auto;line-height:normal;font-family:Menlo,'DejaVu Sans Mono',consolas,'Courier New',monospace\">┌──────────┬──────────┐\n",
              "│  TPU <span style=\"color: #008080; text-decoration-color: #008080; font-weight: bold\">0</span>   │  TPU <span style=\"color: #008080; text-decoration-color: #008080; font-weight: bold\">1</span>   │\n",
              "├──────────┼──────────┤\n",
              "│  TPU <span style=\"color: #008080; text-decoration-color: #008080; font-weight: bold\">2</span>   │  TPU <span style=\"color: #008080; text-decoration-color: #008080; font-weight: bold\">3</span>   │\n",
              "├──────────┼──────────┤\n",
              "│  TPU <span style=\"color: #008080; text-decoration-color: #008080; font-weight: bold\">4</span>   │  TPU <span style=\"color: #008080; text-decoration-color: #008080; font-weight: bold\">5</span>   │\n",
              "├──────────┼──────────┤\n",
              "│  TPU <span style=\"color: #008080; text-decoration-color: #008080; font-weight: bold\">6</span>   │  TPU <span style=\"color: #008080; text-decoration-color: #008080; font-weight: bold\">7</span>   │\n",
              "└──────────┴──────────┘\n",
              "</pre>\n"
            ],
            "text/plain": [
              "┌──────────┬──────────┐\n",
              "│  TPU \u001b[1;36m0\u001b[0m   │  TPU \u001b[1;36m1\u001b[0m   │\n",
              "├──────────┼──────────┤\n",
              "│  TPU \u001b[1;36m2\u001b[0m   │  TPU \u001b[1;36m3\u001b[0m   │\n",
              "├──────────┼──────────┤\n",
              "│  TPU \u001b[1;36m4\u001b[0m   │  TPU \u001b[1;36m5\u001b[0m   │\n",
              "├──────────┼──────────┤\n",
              "│  TPU \u001b[1;36m6\u001b[0m   │  TPU \u001b[1;36m7\u001b[0m   │\n",
              "└──────────┴──────────┘\n"
            ]
          },
          "metadata": {},
          "output_type": "display_data"
        }
      ],
      "source": [
        "jax.debug.visualize_array_sharding((batch[0] @ W1 + b1) @ W2 + b2)"
      ]
    },
    {
      "cell_type": "markdown",
      "metadata": {},
      "source": [
        "After the third layer, the result becomes 4 by 1"
      ]
    },
    {
      "cell_type": "code",
      "execution_count": 73,
      "metadata": {},
      "outputs": [
        {
          "data": {
            "text/html": [
              "<pre style=\"white-space:pre;overflow-x:auto;line-height:normal;font-family:Menlo,'DejaVu Sans Mono',consolas,'Courier New',monospace\">┌───────────────────────┐\n",
              "│        TPU <span style=\"color: #008080; text-decoration-color: #008080; font-weight: bold\">0</span>,<span style=\"color: #008080; text-decoration-color: #008080; font-weight: bold\">1</span>        │\n",
              "├───────────────────────┤\n",
              "│        TPU <span style=\"color: #008080; text-decoration-color: #008080; font-weight: bold\">2</span>,<span style=\"color: #008080; text-decoration-color: #008080; font-weight: bold\">3</span>        │\n",
              "├───────────────────────┤\n",
              "│        TPU <span style=\"color: #008080; text-decoration-color: #008080; font-weight: bold\">4</span>,<span style=\"color: #008080; text-decoration-color: #008080; font-weight: bold\">5</span>        │\n",
              "├───────────────────────┤\n",
              "│        TPU <span style=\"color: #008080; text-decoration-color: #008080; font-weight: bold\">6</span>,<span style=\"color: #008080; text-decoration-color: #008080; font-weight: bold\">7</span>        │\n",
              "└───────────────────────┘\n",
              "</pre>\n"
            ],
            "text/plain": [
              "┌───────────────────────┐\n",
              "│        TPU \u001b[1;36m0\u001b[0m,\u001b[1;36m1\u001b[0m        │\n",
              "├───────────────────────┤\n",
              "│        TPU \u001b[1;36m2\u001b[0m,\u001b[1;36m3\u001b[0m        │\n",
              "├───────────────────────┤\n",
              "│        TPU \u001b[1;36m4\u001b[0m,\u001b[1;36m5\u001b[0m        │\n",
              "├───────────────────────┤\n",
              "│        TPU \u001b[1;36m6\u001b[0m,\u001b[1;36m7\u001b[0m        │\n",
              "└───────────────────────┘\n"
            ]
          },
          "metadata": {},
          "output_type": "display_data"
        }
      ],
      "source": [
        "jax.debug.visualize_array_sharding(((batch[0] @ W1 + b1) @ W2 + b2) @ W3 + b3)"
      ]
    },
    {
      "cell_type": "code",
      "execution_count": 75,
      "metadata": {},
      "outputs": [],
      "source": [
        "step_size = 1e-5\n",
        "\n",
        "for _ in range(30):\n",
        "    grads = gradfun(params, batch)\n",
        "    params = [(W - step_size * dW, b - step_size * db)\n",
        "              for (W, b), (dW, db) in zip(params, grads)]"
      ]
    },
    {
      "cell_type": "code",
      "execution_count": 76,
      "metadata": {},
      "outputs": [
        {
          "name": "stdout",
          "output_type": "stream",
          "text": [
            "10.752466\n"
          ]
        }
      ],
      "source": [
        "print(loss_jit(params, batch))"
      ]
    },
    {
      "cell_type": "code",
      "execution_count": 77,
      "metadata": {},
      "outputs": [
        {
          "name": "stdout",
          "output_type": "stream",
          "text": [
            "30.7 ms ± 111 µs per loop (mean ± std. dev. of 10 runs, 10 loops each)\n"
          ]
        }
      ],
      "source": [
        "%timeit -n 10 -r 10 gradfun(params, batch)[0][0].block_until_ready()"
      ]
    },
    {
      "cell_type": "markdown",
      "metadata": {},
      "source": [
        "# Sharp bits"
      ]
    },
    {
      "cell_type": "markdown",
      "metadata": {},
      "source": [
        "## Generating random numbers"
      ]
    },
    {
      "cell_type": "code",
      "execution_count": 78,
      "metadata": {},
      "outputs": [],
      "source": [
        "@jax.jit\n",
        "def f(key, x):\n",
        "    numbers = jax.random.uniform(key, x.shape)\n",
        "    return x + numbers\n",
        "\n",
        "key = jax.random.PRNGKey(42)\n",
        "x_sharding = jax.sharding.PositionalSharding(jax.devices())\n",
        "x = jax.device_put(jnp.arange(24), x_sharding)"
      ]
    },
    {
      "cell_type": "code",
      "execution_count": 79,
      "metadata": {},
      "outputs": [
        {
          "data": {
            "text/html": [
              "<pre style=\"white-space:pre;overflow-x:auto;line-height:normal;font-family:Menlo,'DejaVu Sans Mono',consolas,'Courier New',monospace\">┌───────┬───────┬───────┬───────┬───────┬───────┬───────┬───────┐\n",
              "│ TPU <span style=\"color: #008080; text-decoration-color: #008080; font-weight: bold\">0</span> │ TPU <span style=\"color: #008080; text-decoration-color: #008080; font-weight: bold\">1</span> │ TPU <span style=\"color: #008080; text-decoration-color: #008080; font-weight: bold\">2</span> │ TPU <span style=\"color: #008080; text-decoration-color: #008080; font-weight: bold\">3</span> │ TPU <span style=\"color: #008080; text-decoration-color: #008080; font-weight: bold\">4</span> │ TPU <span style=\"color: #008080; text-decoration-color: #008080; font-weight: bold\">5</span> │ TPU <span style=\"color: #008080; text-decoration-color: #008080; font-weight: bold\">6</span> │ TPU <span style=\"color: #008080; text-decoration-color: #008080; font-weight: bold\">7</span> │\n",
              "└───────┴───────┴───────┴───────┴───────┴───────┴───────┴───────┘\n",
              "</pre>\n"
            ],
            "text/plain": [
              "┌───────┬───────┬───────┬───────┬───────┬───────┬───────┬───────┐\n",
              "│ TPU \u001b[1;36m0\u001b[0m │ TPU \u001b[1;36m1\u001b[0m │ TPU \u001b[1;36m2\u001b[0m │ TPU \u001b[1;36m3\u001b[0m │ TPU \u001b[1;36m4\u001b[0m │ TPU \u001b[1;36m5\u001b[0m │ TPU \u001b[1;36m6\u001b[0m │ TPU \u001b[1;36m7\u001b[0m │\n",
              "└───────┴───────┴───────┴───────┴───────┴───────┴───────┴───────┘\n"
            ]
          },
          "metadata": {},
          "output_type": "display_data"
        }
      ],
      "source": [
        "jax.debug.visualize_array_sharding(f(key, x))"
      ]
    },
    {
      "cell_type": "code",
      "execution_count": 80,
      "metadata": {},
      "outputs": [
        {
          "name": "stdout",
          "output_type": "stream",
          "text": [
            "Communicating? True\n"
          ]
        }
      ],
      "source": [
        "f_exe = f.lower(key, x).compile()\n",
        "print('Communicating?', 'collective-permute' in f_exe.as_text())"
      ]
    },
    {
      "cell_type": "code",
      "execution_count": null,
      "metadata": {},
      "outputs": [],
      "source": []
    }
  ],
  "metadata": {
    "accelerator": "TPU",
    "colab": {
      "authorship_tag": "ABX9TyN6Vx0k2/C81iMFp3Z6bACY",
      "gpuType": "V28",
      "include_colab_link": true,
      "provenance": []
    },
    "kernelspec": {
      "display_name": "Python 3",
      "name": "python3"
    },
    "language_info": {
      "codemirror_mode": {
        "name": "ipython",
        "version": 3
      },
      "file_extension": ".py",
      "mimetype": "text/x-python",
      "name": "python",
      "nbconvert_exporter": "python",
      "pygments_lexer": "ipython3",
      "version": "3.10.13"
    }
  },
  "nbformat": 4,
  "nbformat_minor": 0
}
